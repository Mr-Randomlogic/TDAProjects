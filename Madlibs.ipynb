{
 "cells": [
  {
   "cell_type": "code",
   "execution_count": 2,
   "metadata": {},
   "outputs": [
    {
     "name": "stdout",
     "output_type": "stream",
     "text": [
      "Welcome to Mad Libs! \n",
      " To play enter the required prompts to create a story \n",
      " To quit the game at any time enter 'exit'\n",
      "Here is the story you have created:\n",
      " On a fine day a dashing young man named Frank went to Frankland to meet Frankinson.\n",
      " They met at Fank O'Clock and he saw that they were Frankly and tall with Foot Freen hair and Frown eyes.\n",
      " They visited a Frankfuft where they saw a handsome fountain from Frostburg.\n",
      " They had a sour time and promised to meet next Friday.\n"
     ]
    }
   ],
   "source": [
    "\n",
    "def mad_libs_generator():\n",
    "    ## Creating the mad lib generator\n",
    "    print(\"Welcome to Mad Libs! \\n To play enter the required prompts to create a story \\n To quit the game at any time enter 'exit'\")\n",
    "\n",
    "    # Asking the user for inputs\n",
    "    man_name = input(\"Please enter a mens name (e.g John): \")\n",
    "    friend_name = input(\"Please enter another name (e.g Alex): \")\n",
    "    city_1 = input(\"Please enter the name of a city (e.g London): \")\n",
    "    time = input(\"Please enter a time of day (e.g 2pm): \")\n",
    "    adjective_1 = input(\"Please enter an adjective (e.g beautiful): \")\n",
    "    adjective_2 = input(\"Please enter another adjective (e.g tall): \")\n",
    "    length = input(\"Please enter a adjective for length (e.g long): \")\n",
    "    colour_1 = input(\"Please enter a colour (e.g brown): \")\n",
    "    colour_2 = input(\"Please enter another colour (e.g green): \")\n",
    "    place = input(\"Please enter a name of a place (e.g museum): \")\n",
    "    adjective_3 = input(\"Please enter another adjective (e.g old): \")\n",
    "    noun = input(\"Please enter a noun (e.g statue): \")\n",
    "    city_2 = input(\"Please enter another name of a city (e.g Rome): \")\n",
    "    adjective_4 = input(\"Please enter another adjective (e.g nice): \")\n",
    "    day = input(\"Please enter a day of the week (e.g Saturday): \")\n",
    "\n",
    "    # combining all the variables into a story\n",
    "    story = f'''On a fine day a dashing young man named {man_name} went to {city_1} to meet {friend_name}.\\n They met at {time} and he saw that they were {adjective_1} and {adjective_2} with {length} {colour_1} hair and {colour_2} eyes.\\n They visited a {place} where they saw a {adjective_3} {noun} from {city_2}.\\n They had a {adjective_4} time and promised to meet next {day}.'''\n",
    "    # display the story the user has created with their inputs\n",
    "    print(f\"Here is the story you have created:\\n {story}\")\n",
    "\n",
    "mad_libs_generator()"
   ]
  }
 ],
 "metadata": {
  "kernelspec": {
   "display_name": "Python 3",
   "language": "python",
   "name": "python3"
  },
  "language_info": {
   "codemirror_mode": {
    "name": "ipython",
    "version": 3
   },
   "file_extension": ".py",
   "mimetype": "text/x-python",
   "name": "python",
   "nbconvert_exporter": "python",
   "pygments_lexer": "ipython3",
   "version": "3.10.6"
  }
 },
 "nbformat": 4,
 "nbformat_minor": 2
}
