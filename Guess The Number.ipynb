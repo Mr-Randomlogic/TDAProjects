{
 "cells": [
  {
   "cell_type": "code",
   "execution_count": 6,
   "metadata": {},
   "outputs": [
    {
     "name": "stdout",
     "output_type": "stream",
     "text": [
      "Sorry, 89 is too high\n",
      "Sorry, 1 is too low.\n",
      "You have guesses right, 2 is the right number!!!\n"
     ]
    }
   ],
   "source": [
    "import random\n",
    "\n",
    "#Generate a random number between 1 and 10, this is done outside the loop to make sure the number stays the same.\n",
    "random_number = random.randint(1,10)\n",
    "\n",
    "# Start a while loop that starts and ends the game. \n",
    "while True:\n",
    "\n",
    "    # Creating the player input as an integer.\n",
    "    try:\n",
    "        # Instrucstion on how to play and end the game.\n",
    "        ask = int(input(\"Pick a number between 1 and 10, type 0 to end the game.\"))\n",
    "\n",
    "    # Adding an value error that notifies the player of an invalid input.\n",
    "    except ValueError:\n",
    "        print('That is not a valid response, please give a number bewteen 1 and 10')\n",
    "\n",
    "    # creating an if/else condition for potential answers.\n",
    "\n",
    "    \n",
    "    # End the game if the player input is '0'.\n",
    "    if ask == 0:\n",
    "        print('Thanks for playing!')\n",
    "        break\n",
    "\n",
    "    # End the game and congratualte the player if the correct number is chosen.\n",
    "    elif ask == random_number:\n",
    "        print(f'You have guesses right, {random_number} is the right number!!!')\n",
    "        break\n",
    "\n",
    "    # Let the player know if the guess is too high.\n",
    "    elif ask > random_number:\n",
    "        print(f'Sorry, {ask} is too high')\n",
    "\n",
    "    # let the player know if the guess is too low.\n",
    "    else:\n",
    "        ask < random_number\n",
    "        print(f'Sorry, {ask} is too low.')"
   ]
  }
 ],
 "metadata": {
  "kernelspec": {
   "display_name": "Python 3",
   "language": "python",
   "name": "python3"
  },
  "language_info": {
   "codemirror_mode": {
    "name": "ipython",
    "version": 3
   },
   "file_extension": ".py",
   "mimetype": "text/x-python",
   "name": "python",
   "nbconvert_exporter": "python",
   "pygments_lexer": "ipython3",
   "version": "3.10.6"
  }
 },
 "nbformat": 4,
 "nbformat_minor": 2
}
